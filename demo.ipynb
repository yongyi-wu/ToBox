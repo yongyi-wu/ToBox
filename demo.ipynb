{
 "metadata": {
  "language_info": {
   "codemirror_mode": {
    "name": "ipython",
    "version": 3
   },
   "file_extension": ".py",
   "mimetype": "text/x-python",
   "name": "python",
   "nbconvert_exporter": "python",
   "pygments_lexer": "ipython3",
   "version": "3.7.9-final"
  },
  "orig_nbformat": 2,
  "kernelspec": {
   "name": "python_defaultSpec_1601336047416",
   "display_name": "Python 3.7.9 64-bit ('box': conda)",
   "metadata": {
    "interpreter": {
     "hash": "dd9ac3931f506e3405f7f90d165a251014a120ecb739c34b01f80f7504877eec"
    }
   }
  }
 },
 "nbformat": 4,
 "nbformat_minor": 2,
 "cells": [
  {
   "cell_type": "code",
   "execution_count": 1,
   "metadata": {
    "tags": []
   },
   "outputs": [
    {
     "output_type": "stream",
     "name": "stdout",
     "text": "The current user ID is 9170430252\n"
    }
   ],
   "source": [
    "import os, collections, pprint\n",
    "import boxsdk\n",
    "\n",
    "# find them in box -> dev console -> <your app> -> configuration\n",
    "oauth = boxsdk.OAuth2(\n",
    "  client_id='', \n",
    "  client_secret='', \n",
    "  access_token='' # developer token (valid for 60 mins)\n",
    ")\n",
    "\n",
    "client = boxsdk.Client(oauth)\n",
    "print('The current user ID is {0}'.format(client.user().get().id))"
   ]
  },
  {
   "cell_type": "code",
   "execution_count": 2,
   "metadata": {
    "tags": []
   },
   "outputs": [],
   "source": [
    "global root_folder\n",
    "root_folder = client.folder(folder_id='0')"
   ]
  },
  {
   "cell_type": "code",
   "execution_count": 27,
   "metadata": {},
   "outputs": [],
   "source": [
    "def match_by_name(folder, name): \n",
    "    files = folder.get()['item_collection']['entries']\n",
    "    for f in files: \n",
    "        if f['name'] == name: \n",
    "            return f\n",
    "    return None\n",
    "\n",
    "\n",
    "def get_item(locator, kind): \n",
    "    '''locator: id or path to find the item\n",
    "    kind: file_id, dir_id, path\n",
    "    '''\n",
    "    if kind == 'file_id': \n",
    "        try: \n",
    "            return client.file(file_id=locator).get()\n",
    "        except: \n",
    "            raise ValueError('Invalid file id')\n",
    "    elif kind == 'dir_id': \n",
    "        try: \n",
    "            return client.folder(folder_id=locator).get()\n",
    "        except: \n",
    "            raise ValueError('Invalid folder id')\n",
    "    elif kind == 'path': \n",
    "        locator = os.path.normpath(locator)\n",
    "        tokens = locator.split(os.sep)\n",
    "        if len(tokens) == 0: \n",
    "            raise ValueError('Invalid path')\n",
    "        item = root_folder\n",
    "        for name in tokens: \n",
    "            item = match_by_name(item, name)\n",
    "            if item is None: \n",
    "                raise ValueError('Nonexist item: {}'.format(name))\n",
    "        return item.get()\n",
    "    else: \n",
    "        raise ValueError('Item id or path is required')\n",
    "\n",
    "\n",
    "def list_folder_remote(folder, recurse=-1): \n",
    "    '''folder: a folder (boxsdk.object.folder.Folder) to inspect its content\n",
    "    recurse: -1 nonrecursive, 0 recursive\n",
    "    '''\n",
    "    # TODO: \n",
    "    if not isinstance(folder, boxsdk.object.folder.Folder): \n",
    "        raise ValueError('Invalid input')\n",
    "    if recurse == -1: \n",
    "        # non-recursive case\n",
    "        pprint.pprint(folder.get()['item_collection']['entries'])\n",
    "    else: \n",
    "        items = folder.get()['item_collection']['entries']\n",
    "        pprint.PrettyPrinter(indent=recurse).pprint(items)\n",
    "        subfolders = [item for item in items if isinstance(item, boxsdk.object.folder.Folder)]\n",
    "        for subfolder in subfolders: \n",
    "            list_folder_remote(subfolder, recurse+1)\n",
    "\n",
    "def change_working_folder(folder): \n",
    "    # TODO: change working directory from root_folder to any specified one\n",
    "    pass"
   ]
  },
  {
   "cell_type": "code",
   "execution_count": 17,
   "metadata": {},
   "outputs": [],
   "source": [
    "def upload_files(srcs, dst): \n",
    "    '''srcs: a list of paths (strings) to local files\n",
    "    dst: a target folder (boxsdk.object.folder.Folder)\n",
    "    '''\n",
    "    if isinstance(srcs, str): \n",
    "        srcs = [srcs]\n",
    "    for src in srcs: \n",
    "        print('Uploading {}'.format(src), end='...')\n",
    "        name = os.path.basename(src)\n",
    "        remote = match_by_name(dst, name)\n",
    "        if remote is not None: \n",
    "            ans = input('{} already exists in {}. Update? y/[n]'.format(name, dst))\n",
    "            if ans.lower() != 'y': \n",
    "                print('Skip')\n",
    "                continue\n",
    "            else: \n",
    "                remote.update_contents(src)\n",
    "        else: \n",
    "            dst.upload(src)\n",
    "        print('Done')\n",
    "\n",
    "\n",
    "def make_if_nonexist_remote(folder, name): \n",
    "    '''folder: an existing remote folder (boxsdk.object.folder.Folder)\n",
    "    name: the name (string) of subfolder to check\n",
    "    '''\n",
    "    subfolder = match_by_name(folder, name)\n",
    "    if subfolder is None or not isinstance(subfolder, boxsdk.object.folder.Folder): \n",
    "        subfolder = folder.create_subfolder(name)\n",
    "        print('New folder created: {}'.format(subfolder))\n",
    "    return subfolder\n",
    "\n",
    "\n",
    "def upload_folder(src, dst): \n",
    "    '''src: a path (string) to a local directory\n",
    "    dst: a target folder (boxsdk.object.folder.Folder)\n",
    "    '''\n",
    "    for root, dirs, files in os.walk(src): \n",
    "        folder = make_if_nonexist_remote(dst, os.path.basename(root))\n",
    "        files = [os.path.join(root, f) for f in files]\n",
    "        upload_files(files, folder)\n",
    "        for name in dirs: \n",
    "            upload_folder(os.path.join(root, name), folder)\n",
    "        break\n",
    "\n",
    "\n",
    "def download_files(srcs, dst): \n",
    "    '''srcs: a list of remote files (boxsdk.object.file.File)\n",
    "    dst: a local directory (string)\n",
    "    '''\n",
    "    if isinstance(srcs, str): \n",
    "        srcs = [srcs]\n",
    "    for src in srcs: \n",
    "        print('Downloading {}'.format(src), end='...')\n",
    "        name = os.path.join(dst, src['name'])\n",
    "        if os.path.exists(name): \n",
    "            ans = input('{} already exists in {}. Overwrite? y/[n]'.format(src['name'], dst))\n",
    "            if ans.lower() != 'y': \n",
    "                print('Skip')\n",
    "                continue\n",
    "        with open(name, 'wb') as f: \n",
    "            content = src.content()\n",
    "            f.write(content)\n",
    "        print('Done')\n",
    "\n",
    "\n",
    "def make_if_nonexist_local(folder, name): \n",
    "    '''folder: the path (string) to an existing local folder\n",
    "    name: the name (string) of subfolder to check\n",
    "    '''\n",
    "    path = os.path.join(folder, name)\n",
    "    print(path)\n",
    "    if not os.path.exists(path): \n",
    "        os.mkdir(path)\n",
    "        print('New directory created: {}'.format(path))\n",
    "    return path\n",
    "\n",
    "\n",
    "def download_folder(src, dst): \n",
    "    '''src: a remote folder to be downloaded (boxsdk.object.folder.Folder)\n",
    "    dst: target local directory (string)\n",
    "    '''\n",
    "    dst = make_if_nonexist_local(dst, src['name'])\n",
    "    items = src.get()['item_collection']['entries']\n",
    "    files = []\n",
    "    subfolders = []\n",
    "    for item in items: \n",
    "        if isinstance(item, boxsdk.object.folder.Folder): \n",
    "            subfolders.append(item)\n",
    "        else: \n",
    "            files.append(item)\n",
    "    download_files(files, dst)\n",
    "    for subfolder in subfolders: \n",
    "        print(dst)\n",
    "        print(subfolder['name'])\n",
    "        download_folder(subfolder, dst)"
   ]
  },
  {
   "cell_type": "code",
   "execution_count": null,
   "metadata": {},
   "outputs": [],
   "source": []
  },
  {
   "cell_type": "code",
   "execution_count": 5,
   "metadata": {
    "tags": []
   },
   "outputs": [
    {
     "output_type": "stream",
     "name": "stdout",
     "text": "[<Box Folder - 102186168705 (Charles_RawEEG)>,\n <Box Folder - 123366382709 (shared_folder)>,\n <Box File - 723850189780 (auth.py)>,\n <Box File - 182923522650 (Sophia.Self.6.1.17.MP4)>,\n <Box File - 182924490478 (SophiaAudio6.1.17.m4a)>]\n"
    }
   ],
   "source": [
    "list_folder_remote(root_folder)  # explore root folder (non-recursive)"
   ]
  },
  {
   "cell_type": "code",
   "execution_count": 6,
   "metadata": {
    "tags": []
   },
   "outputs": [
    {
     "output_type": "stream",
     "name": "stdout",
     "text": "New subfolder created: <Box Folder - 123463282523 (example)>\nUploading ./example/test.txt...Done\nNew subfolder created: <Box Folder - 123464573505 (ex1)>\nNew subfolder created: <Box Folder - 123464494528 (ex2)>\nUploading ./example/ex2/Gull_portrait_ca_usa.jpg...Done\nNew subfolder created: <Box Folder - 123465372991 (ex21)>\nNew subfolder created: <Box Folder - 123465147988 (ex22)>\nUploading ./example/ex2/ex22/10x-featured-social-media-image-size.png...Done\nNew subfolder created: <Box Folder - 123464682731 (ex3)>\nNew subfolder created: <Box Folder - 123464504088 (ex31)>\nUploading ./example/ex3/ex31/visual-reverse-image-search-v2_intro.jpg...Done\nUploading ./example/ex3/ex31/image-human-brain_99433-298.jpg...Done\nNew subfolder created: <Box Folder - 123465040142 (ex311)>\nNew subfolder created: <Box Folder - 123464888166 (ex3111)>\n"
    }
   ],
   "source": [
    "upload_folder('./example', root_folder) # upload a folder to box"
   ]
  },
  {
   "cell_type": "code",
   "execution_count": 20,
   "metadata": {
    "tags": []
   },
   "outputs": [
    {
     "output_type": "stream",
     "name": "stdout",
     "text": "0\n[<Box Folder - 123464573505 (ex1)>,\n<Box Folder - 123464494528 (ex2)>,\n<Box Folder - 123464682731 (ex3)>,\n<Box File - 724269866121 (test.txt)>]\n1\n[]\n1\n[<Box Folder - 123465372991 (ex21)>,\n <Box Folder - 123465147988 (ex22)>,\n <Box File - 724269076750 (Gull_portrait_ca_usa.jpg)>]\n2\n[]\n2\n[<Box File - 724269623198 (10x-featured-social-media-image-size.png)>]\n1\n[<Box Folder - 123464504088 (ex31)>]\n2\n[ <Box Folder - 123465040142 (ex311)>,\n  <Box File - 724268746502 (image-human-brain_99433-298.jpg)>,\n  <Box File - 724269568615 (visual-reverse-image-search-v2_intro.jpg)>]\n3\n[<Box Folder - 123464888166 (ex3111)>]\n4\n[]\n"
    }
   ],
   "source": [
    "example = get_item('123463282523', 'dir_id') # grasp a remote item\n",
    "# example = get_item('example', 'path') # equivalently\n",
    "list_folder_remote(example, recurse=0) # explore it (recursively); I need to make things displayed in a nicer way"
   ]
  },
  {
   "cell_type": "code",
   "execution_count": 21,
   "metadata": {
    "tags": []
   },
   "outputs": [
    {
     "output_type": "stream",
     "name": "stdout",
     "text": "Uploading ./new.py...Done\n"
    }
   ],
   "source": [
    "upload_files('./new.py', get_item('example/ex1', 'path')) # upload a file"
   ]
  },
  {
   "cell_type": "code",
   "execution_count": 26,
   "metadata": {
    "tags": []
   },
   "outputs": [
    {
     "output_type": "stream",
     "name": "stdout",
     "text": "/home/yongyiw/Downloads/example\nDownloading <Box File - 724269866121 (test.txt)>...Skip\n/home/yongyiw/Downloads/example\nex1\n/home/yongyiw/Downloads/example/ex1\nDownloading <Box File - 724273050797 (new.py)>...Skip\n/home/yongyiw/Downloads/example\nex2\n/home/yongyiw/Downloads/example/ex2\nDownloading <Box File - 724269076750 (Gull_portrait_ca_usa.jpg)>...Skip\n/home/yongyiw/Downloads/example/ex2\nex21\n/home/yongyiw/Downloads/example/ex2/ex21\nNew directory created: /home/yongyiw/Downloads/example/ex2/ex21\n/home/yongyiw/Downloads/example/ex2\nex22\n/home/yongyiw/Downloads/example/ex2/ex22\nNew directory created: /home/yongyiw/Downloads/example/ex2/ex22\nDownloading <Box File - 724269623198 (10x-featured-social-media-image-size.png)>...Done\n/home/yongyiw/Downloads/example\nex3\n/home/yongyiw/Downloads/example/ex3\nNew directory created: /home/yongyiw/Downloads/example/ex3\n/home/yongyiw/Downloads/example/ex3\nex31\n/home/yongyiw/Downloads/example/ex3/ex31\nNew directory created: /home/yongyiw/Downloads/example/ex3/ex31\nDownloading <Box File - 724268746502 (image-human-brain_99433-298.jpg)>...Done\nDownloading <Box File - 724269568615 (visual-reverse-image-search-v2_intro.jpg)>...Done\n/home/yongyiw/Downloads/example/ex3/ex31\nex311\n/home/yongyiw/Downloads/example/ex3/ex31/ex311\nNew directory created: /home/yongyiw/Downloads/example/ex3/ex31/ex311\n/home/yongyiw/Downloads/example/ex3/ex31/ex311\nex3111\n/home/yongyiw/Downloads/example/ex3/ex31/ex311/ex3111\nNew directory created: /home/yongyiw/Downloads/example/ex3/ex31/ex311/ex3111\n"
    }
   ],
   "source": [
    "download_folder(example, '/home/yongyiw/Downloads')"
   ]
  },
  {
   "cell_type": "code",
   "execution_count": null,
   "metadata": {},
   "outputs": [],
   "source": []
  },
  {
   "cell_type": "code",
   "execution_count": null,
   "metadata": {},
   "outputs": [],
   "source": []
  }
 ]
}