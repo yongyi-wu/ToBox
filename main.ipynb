{
 "metadata": {
  "language_info": {
   "codemirror_mode": {
    "name": "ipython",
    "version": 3
   },
   "file_extension": ".py",
   "mimetype": "text/x-python",
   "name": "python",
   "nbconvert_exporter": "python",
   "pygments_lexer": "ipython3",
   "version": "3.7.9-final"
  },
  "orig_nbformat": 2,
  "kernelspec": {
   "name": "python_defaultSpec_1601865272119",
   "display_name": "Python 3.7.9 64-bit ('box': conda)",
   "metadata": {
    "interpreter": {
     "hash": "41c1aa6f88b710b95829f62986ad67c225ddcacef9e96abe803b30fa5c83736c"
    }
   }
  }
 },
 "nbformat": 4,
 "nbformat_minor": 2,
 "cells": [
  {
   "cell_type": "code",
   "execution_count": 15,
   "metadata": {},
   "outputs": [],
   "source": [
    "import app\n",
    "from config import client_id, client_secret"
   ]
  },
  {
   "cell_type": "code",
   "execution_count": 16,
   "metadata": {
    "tags": []
   },
   "outputs": [
    {
     "output_type": "stream",
     "name": "stdout",
     "text": "The current user ID is 9170430252\n"
    }
   ],
   "source": [
    "client = app.auth.authenticate(client_id, client_secret, '4qWqp4CmMrmBXtRQ0HeAWl3NhPbCIRFo')"
   ]
  },
  {
   "cell_type": "code",
   "execution_count": 3,
   "metadata": {},
   "outputs": [],
   "source": [
    "global working_dir\n",
    "working_dir = client.folder(folder_id='0')"
   ]
  },
  {
   "cell_type": "code",
   "execution_count": 5,
   "metadata": {
    "tags": []
   },
   "outputs": [
    {
     "output_type": "stream",
     "name": "stdout",
     "text": "[&lt;Box Folder - 102186168705 (Charles_RawEEG)&gt;,\n &lt;Box Folder - 123818767430 (example)&gt;,\n &lt;Box Folder - 123366382709 (shared_folder)&gt;,\n &lt;Box File - 723850189780 (auth.py)&gt;,\n &lt;Box File - 182923522650 (Sophia.Self.6.1.17.MP4)&gt;,\n &lt;Box File - 182924490478 (SophiaAudio6.1.17.m4a)&gt;]\n"
    }
   ],
   "source": [
    "app.list_folder_remote(working_dir)"
   ]
  },
  {
   "cell_type": "code",
   "execution_count": 7,
   "metadata": {
    "tags": []
   },
   "outputs": [
    {
     "output_type": "stream",
     "name": "stdout",
     "text": "Uploading ./example/test.txt...Skip\nUploading ./example/ex2/Gull_portrait_ca_usa.jpg...Skip\nUploading ./example/ex2/ex22/10x-featured-social-media-image-size.png...Skip\nUploading ./example/ex3/ex31/visual-reverse-image-search-v2_intro.jpg...Skip\nUploading ./example/ex3/ex31/image-human-brain_99433-298.jpg...Skip\n"
    }
   ],
   "source": [
    "# app.upload_folder('./example', working_dir)"
   ]
  },
  {
   "cell_type": "code",
   "execution_count": 8,
   "metadata": {
    "tags": []
   },
   "outputs": [
    {
     "output_type": "stream",
     "name": "stdout",
     "text": "[&lt;Box Folder - 123817179820 (ex1)&gt;,\n&lt;Box Folder - 123817152211 (ex2)&gt;,\n&lt;Box Folder - 123818532222 (ex3)&gt;,\n&lt;Box File - 726756762599 (test.txt)&gt;]\n[]\n[&lt;Box Folder - 123819228907 (ex21)&gt;,\n &lt;Box Folder - 123818907884 (ex22)&gt;,\n &lt;Box File - 726756285853 (Gull_portrait_ca_usa.jpg)&gt;]\n[]\n[&lt;Box File - 726771153846 (10x-featured-social-media-image-size.png)&gt;]\n[&lt;Box Folder - 123818950391 (ex31)&gt;]\n[ &lt;Box Folder - 123817275960 (ex311)&gt;,\n  &lt;Box File - 726770874424 (image-human-brain_99433-298.jpg)&gt;,\n  &lt;Box File - 726772384606 (visual-reverse-image-search-v2_intro.jpg)&gt;]\n[&lt;Box Folder - 123818315182 (ex3111)&gt;]\n[]\n"
    }
   ],
   "source": [
    "example = app.get_item(client, working_dir, '123818767430', 'dir_id')\n",
    "app.list_folder_remote(example, recurse=0)"
   ]
  },
  {
   "cell_type": "code",
   "execution_count": 10,
   "metadata": {
    "tags": []
   },
   "outputs": [
    {
     "output_type": "stream",
     "name": "stdout",
     "text": "Uploading ./main.ipynb...Done\n"
    }
   ],
   "source": [
    "app.upload_files('./main.ipynb', app.get_item(client, working_dir, 'example/ex1', 'path'))"
   ]
  },
  {
   "cell_type": "code",
   "execution_count": 11,
   "metadata": {
    "tags": []
   },
   "outputs": [
    {
     "output_type": "stream",
     "name": "stdout",
     "text": "/home/yongyiw/Downloads/example\nNew directory created: /home/yongyiw/Downloads/example\nDownloading &lt;Box File - 726756762599 (test.txt)&gt;...Done\n/home/yongyiw/Downloads/example\nex1\n/home/yongyiw/Downloads/example/ex1\nNew directory created: /home/yongyiw/Downloads/example/ex1\nDownloading &lt;Box File - 726774215604 (main.ipynb)&gt;...Done\n/home/yongyiw/Downloads/example\nex2\n/home/yongyiw/Downloads/example/ex2\nNew directory created: /home/yongyiw/Downloads/example/ex2\nDownloading &lt;Box File - 726756285853 (Gull_portrait_ca_usa.jpg)&gt;...Done\n/home/yongyiw/Downloads/example/ex2\nex21\n/home/yongyiw/Downloads/example/ex2/ex21\nNew directory created: /home/yongyiw/Downloads/example/ex2/ex21\n/home/yongyiw/Downloads/example/ex2\nex22\n/home/yongyiw/Downloads/example/ex2/ex22\nNew directory created: /home/yongyiw/Downloads/example/ex2/ex22\nDownloading &lt;Box File - 726771153846 (10x-featured-social-media-image-size.png)&gt;...Done\n/home/yongyiw/Downloads/example\nex3\n/home/yongyiw/Downloads/example/ex3\nNew directory created: /home/yongyiw/Downloads/example/ex3\n/home/yongyiw/Downloads/example/ex3\nex31\n/home/yongyiw/Downloads/example/ex3/ex31\nNew directory created: /home/yongyiw/Downloads/example/ex3/ex31\nDownloading &lt;Box File - 726770874424 (image-human-brain_99433-298.jpg)&gt;...Done\nDownloading &lt;Box File - 726772384606 (visual-reverse-image-search-v2_intro.jpg)&gt;...Done\n/home/yongyiw/Downloads/example/ex3/ex31\nex311\n/home/yongyiw/Downloads/example/ex3/ex31/ex311\nNew directory created: /home/yongyiw/Downloads/example/ex3/ex31/ex311\n/home/yongyiw/Downloads/example/ex3/ex31/ex311\nex3111\n/home/yongyiw/Downloads/example/ex3/ex31/ex311/ex3111\nNew directory created: /home/yongyiw/Downloads/example/ex3/ex31/ex311/ex3111\n"
    }
   ],
   "source": [
    "app.download_folder(example, '/home/yongyiw/Downloads')"
   ]
  },
  {
   "cell_type": "code",
   "execution_count": null,
   "metadata": {},
   "outputs": [],
   "source": []
  }
 ]
}